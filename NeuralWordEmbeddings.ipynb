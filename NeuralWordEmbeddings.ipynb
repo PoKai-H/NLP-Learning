{
 "cells": [
  {
   "cell_type": "code",
   "execution_count": 1,
   "metadata": {},
   "outputs": [],
   "source": [
    "from gensim.models import KeyedVectors"
   ]
  },
  {
   "cell_type": "code",
   "execution_count": 2,
   "metadata": {},
   "outputs": [],
   "source": [
    "word_vectors = KeyedVectors.load_word2vec_format(\n",
    "    'GoogleNews-vectors-negative300.bin',\n",
    "    binary=True\n",
    ")"
   ]
  },
  {
   "cell_type": "code",
   "execution_count": 3,
   "metadata": {},
   "outputs": [],
   "source": [
    "def find_analogies(w1, w2, w3):\n",
    "    # w1 - w2 = ? -w3\n",
    "    # e.g king - man = ? - woman\n",
    "    #     ? = king + woman - man\n",
    "    r = word_vectors.most_similar(positive=[w1, w3], negative= [w2])\n",
    "    print(f'{w1} - {w2} = {r[0][0]} - {w3}')             "
   ]
  },
  {
   "cell_type": "code",
   "execution_count": 4,
   "metadata": {},
   "outputs": [
    {
     "name": "stdout",
     "output_type": "stream",
     "text": [
      "king - man = queen - woman\n"
     ]
    }
   ],
   "source": [
    "find_analogies('king','man','woman')"
   ]
  },
  {
   "cell_type": "code",
   "execution_count": 5,
   "metadata": {},
   "outputs": [
    {
     "name": "stdout",
     "output_type": "stream",
     "text": [
      "france - paris = england - london\n"
     ]
    }
   ],
   "source": [
    "find_analogies('france','paris','london')"
   ]
  },
  {
   "cell_type": "code",
   "execution_count": 8,
   "metadata": {},
   "outputs": [
    {
     "name": "stdout",
     "output_type": "stream",
     "text": [
      "france - paris = italy - rome\n"
     ]
    }
   ],
   "source": [
    "find_analogies('france','paris','rome')"
   ]
  },
  {
   "cell_type": "code",
   "execution_count": 11,
   "metadata": {},
   "outputs": [
    {
     "name": "stdout",
     "output_type": "stream",
     "text": [
      "paris - france = lohan - italy\n"
     ]
    }
   ],
   "source": [
    "find_analogies('paris','france','italy')"
   ]
  },
  {
   "cell_type": "code",
   "execution_count": 13,
   "metadata": {},
   "outputs": [
    {
     "name": "stdout",
     "output_type": "stream",
     "text": [
      "england - english = italy - italian\n"
     ]
    }
   ],
   "source": [
    "find_analogies('england','english','italian')"
   ]
  },
  {
   "cell_type": "code",
   "execution_count": 14,
   "metadata": {},
   "outputs": [
    {
     "name": "stdout",
     "output_type": "stream",
     "text": [
      "japan - japanese = tibet - chinese\n"
     ]
    }
   ],
   "source": [
    "find_analogies('japan','japanese','chinese')"
   ]
  },
  {
   "cell_type": "code",
   "execution_count": 16,
   "metadata": {},
   "outputs": [
    {
     "name": "stdout",
     "output_type": "stream",
     "text": [
      "man - woman = son - wife\n"
     ]
    }
   ],
   "source": [
    "find_analogies('man','woman','wife')"
   ]
  },
  {
   "cell_type": "code",
   "execution_count": 17,
   "metadata": {},
   "outputs": [],
   "source": [
    "def neareast_neighbor(w):\n",
    "    r = word_vectors.most_similar(positive=[w])\n",
    "    for word, score in r:\n",
    "        print(f'\\t {word}')"
   ]
  },
  {
   "cell_type": "code",
   "execution_count": 18,
   "metadata": {},
   "outputs": [
    {
     "name": "stdout",
     "output_type": "stream",
     "text": [
      "\t kings\n",
      "\t queen\n",
      "\t monarch\n",
      "\t crown_prince\n",
      "\t prince\n",
      "\t sultan\n",
      "\t ruler\n",
      "\t princes\n",
      "\t Prince_Paras\n",
      "\t throne\n"
     ]
    }
   ],
   "source": [
    "neareast_neighbor('king')"
   ]
  },
  {
   "cell_type": "code",
   "execution_count": 19,
   "metadata": {},
   "outputs": [
    {
     "name": "stdout",
     "output_type": "stream",
     "text": [
      "\t asus\n",
      "\t motorola\n",
      "\t hong_kong\n",
      "\t autodesk_autocad_architecture\n",
      "\t vpn\n",
      "\t beijing\n",
      "\t asia\n",
      "\t india\n",
      "\t singapore\n",
      "\t ibm\n"
     ]
    }
   ],
   "source": [
    "neareast_neighbor('taiwan')"
   ]
  },
  {
   "cell_type": "code",
   "execution_count": 20,
   "metadata": {},
   "outputs": [
    {
     "name": "stdout",
     "output_type": "stream",
     "text": [
      "\t japanese\n",
      "\t tokyo\n",
      "\t america\n",
      "\t europe\n",
      "\t germany\n",
      "\t chinese\n",
      "\t india\n",
      "\t hawaii\n",
      "\t usa\n",
      "\t korea\n"
     ]
    }
   ],
   "source": [
    "neareast_neighbor('japan')"
   ]
  }
 ],
 "metadata": {
  "kernelspec": {
   "display_name": "Python 3",
   "language": "python",
   "name": "python3"
  },
  "language_info": {
   "codemirror_mode": {
    "name": "ipython",
    "version": 3
   },
   "file_extension": ".py",
   "mimetype": "text/x-python",
   "name": "python",
   "nbconvert_exporter": "python",
   "pygments_lexer": "ipython3",
   "version": "3.10.3"
  },
  "orig_nbformat": 4,
  "vscode": {
   "interpreter": {
    "hash": "0f2e14debfada69c40213eed09438e301d98e71630f49e55fbed3e96c4754de7"
   }
  }
 },
 "nbformat": 4,
 "nbformat_minor": 2
}
